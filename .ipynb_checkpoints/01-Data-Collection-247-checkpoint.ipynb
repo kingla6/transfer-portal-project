{
 "cells": [
  {
   "cell_type": "markdown",
   "metadata": {},
   "source": [
    "# 247 Transfer Portal Scraping Data"
   ]
  },
  {
   "cell_type": "code",
   "execution_count": 176,
   "metadata": {},
   "outputs": [],
   "source": [
    "#import relevant packages\n",
    "import requests as rq\n",
    "from bs4 import BeautifulSoup as bs\n",
    "import re\n",
    "import pandas as pd\n",
    "import os\n",
    "import numpy as np"
   ]
  },
  {
   "cell_type": "code",
   "execution_count": 177,
   "metadata": {},
   "outputs": [],
   "source": [
    "s = 2021\n",
    "#set the relevant url, must do in parts then join together\n",
    "url_parts = ['https://247sports.com/Season/', str(s), '-Football/TransferPortal/']\n",
    "url = ''.join(url_parts)\n",
    "\n",
    "#use get to access the url and save the page\n",
    "headers = {'User-Agent': 'Mozilla/5.0 (Windows NT 10.0; Win64; x64) AppleWebKit/537.36 (KHTML, like Gecko) Chrome/87.0.4280.88 Safari/537.36'}\n",
    "page = rq.get(url, headers = headers)\n",
    "\n",
    "#save the html content of the page\n",
    "soup = bs(page.content, 'html.parser')"
   ]
  },
  {
   "cell_type": "code",
   "execution_count": 178,
   "metadata": {},
   "outputs": [],
   "source": [
    "transfer_players = soup.find_all('li', class_ = 'portal-list_itm')"
   ]
  },
  {
   "cell_type": "code",
   "execution_count": 179,
   "metadata": {},
   "outputs": [],
   "source": [
    "player_link_list = []\n",
    "player_name_list = []\n",
    "height_in_list = []\n",
    "weight_list = []\n",
    "transfer_stars_list = []\n",
    "transfer_rating_list = []\n",
    "hs_stars_list = []\n",
    "hs_rating_list = []\n",
    "position_list = []\n",
    "eligibility_list = []\n",
    "old_school_list = []\n",
    "new_school_list = []"
   ]
  },
  {
   "cell_type": "code",
   "execution_count": 180,
   "metadata": {},
   "outputs": [],
   "source": [
    "for transfer_player in transfer_players:\n",
    "    player_elem = transfer_player.find('div', class_ = 'player')\n",
    "    player_link = None if player_elem == None else player_elem.find('a')['href']\n",
    "    player_name = None if player_elem == None else player_elem.find('a').text.strip()\n",
    "    \n",
    "    measurables = None if player_elem == None else player_elem.find('div', class_ = 'metrics').text.strip()\n",
    "    weight = None if measurables == None else measurables.split('/')[1].strip()\n",
    "    height = None if measurables == None else measurables.split('/')[0].strip()\n",
    "    feet = None if height == None else height.split('-')[0].strip()\n",
    "    inches = None if height == None else height.split('-')[1].strip()\n",
    "    \n",
    "    if height == None:\n",
    "        height_in = None\n",
    "    else:\n",
    "        try:\n",
    "            height_in = float(feet)*12 + float(inches)\n",
    "        except:\n",
    "            height_in = None\n",
    "            \n",
    "    rating_elem = None if player_elem == None else player_elem.find('div', class_ = 'rating')\n",
    "    rating_types_elem = None if rating_elem == None else rating_elem.find_all('span')\n",
    "    rating_types = None if rating_types_elem == None else len(rating_types_elem)\n",
    "   \n",
    "    if rating_types == 16:\n",
    "        transfer_stars = str(rating_types_elem[0]).count('yellow')\n",
    "        transfer_rating = rating_types_elem[0].find('span', class_ = 'score').text[:-4].strip()\n",
    "        hs_stars = str(rating_types_elem[8]).count('yellow')\n",
    "        hs_rating = rating_types_elem[8].find('span', class_ = 'score').text[:-4].strip()\n",
    "    elif rating_types == 8:\n",
    "        transfer_stars = None\n",
    "        transfer_rating = None\n",
    "        hs_stars = str(rating_types_elem[0]).count('yellow')\n",
    "        hs_rating = rating_types_elem[0].find('span', class_ = 'score').text[:-4].strip()\n",
    "    else:\n",
    "        transfer_stars = None\n",
    "        transfer_rating = None\n",
    "        hs_stars = None\n",
    "        hs_rating = None \n",
    "    if hs_rating == 'N/A':\n",
    "        hs_rating = None\n",
    "    \n",
    "    position_elem = transfer_player.find('div', class_ = 'position')\n",
    "    position = None if position_elem == None else position_elem.text.strip()\n",
    "\n",
    "    eligibility_elem = transfer_player.find('div', class_ = 'eligibility not-tbd')\n",
    "    eligibility = None if eligibility_elem == None else eligibility_elem.text.strip()\n",
    "\n",
    "    transfer_elem = transfer_player.find_all('div', class_ = 'transfer-institution')\n",
    "    \n",
    "    if len(transfer_elem) == 0:\n",
    "        old_school = None\n",
    "        new_school = None\n",
    "    else:\n",
    "        if len([i[9:-1] for i in re.findall('img alt=\\\".+?\\\"', str(transfer_elem[0]))]) == 1:\n",
    "            old_school = [i[9:-1] for i in re.findall('img alt=\\\".+?\\\"', str(transfer_elem[0]))][0]\n",
    "            new_school = None\n",
    "        elif len([i[9:-1] for i in re.findall('img alt=\\\".+?\\\"', str(transfer_elem[0]))]) == 2:\n",
    "            old_school = [i[9:-1] for i in re.findall('img alt=\\\".+?\\\"', str(transfer_elem[0]))][0]\n",
    "            new_school = [i[9:-1] for i in re.findall('img alt=\\\".+?\\\"', str(transfer_elem[0]))][1]            \n",
    "        else: \n",
    "            old_school = None\n",
    "            new_school = None\n",
    "    \n",
    "    player_link_list.append(player_link)\n",
    "    player_name_list.append(player_name)\n",
    "    height_in_list.append(height_in)\n",
    "    weight_list.append(weight)\n",
    "    transfer_stars_list.append(transfer_stars)\n",
    "    transfer_rating_list.append(transfer_rating)\n",
    "    hs_stars_list.append(hs_stars)\n",
    "    hs_rating_list.append(hs_rating)\n",
    "    position_list.append(position)\n",
    "    eligibility_list.append(eligibility)\n",
    "    old_school_list.append(old_school)\n",
    "    new_school_list.append(new_school)"
   ]
  },
  {
   "cell_type": "code",
   "execution_count": 181,
   "metadata": {},
   "outputs": [],
   "source": [
    "transfer_247_df = pd.DataFrame({'url': player_link_list,\n",
    "                                'name': player_name_list,\n",
    "                                'height_in': height_in_list,\n",
    "                                'weight': weight_list,\n",
    "                                'position': position_list,\n",
    "                                'transfer_stars': transfer_stars_list,\n",
    "                                'transfer_rating': transfer_rating_list,\n",
    "                                'hs_stars': hs_stars_list,\n",
    "                                'hs_rating': hs_rating_list,\n",
    "                                'eligibility': eligibility_list,\n",
    "                                'old_school': old_school_list,\n",
    "                                'new_school': new_school_list})"
   ]
  },
  {
   "cell_type": "code",
   "execution_count": 182,
   "metadata": {},
   "outputs": [],
   "source": [
    "transfer_247_df = transfer_247_df.fillna(value=np.nan).dropna(axis = 0, how = 'all').reset_index().drop('index', axis = 1)"
   ]
  },
  {
   "cell_type": "code",
   "execution_count": 184,
   "metadata": {},
   "outputs": [],
   "source": [
    "transfer_247_df.to_csv('raw-data/transfer_247_data.csv', index = False)"
   ]
  },
  {
   "cell_type": "code",
   "execution_count": null,
   "metadata": {},
   "outputs": [],
   "source": []
  }
 ],
 "metadata": {
  "kernelspec": {
   "display_name": "Python 3",
   "language": "python",
   "name": "python3"
  },
  "language_info": {
   "codemirror_mode": {
    "name": "ipython",
    "version": 3
   },
   "file_extension": ".py",
   "mimetype": "text/x-python",
   "name": "python",
   "nbconvert_exporter": "python",
   "pygments_lexer": "ipython3",
   "version": "3.8.3"
  }
 },
 "nbformat": 4,
 "nbformat_minor": 4
}
